{
 "cells": [
  {
   "cell_type": "code",
   "execution_count": 2,
   "metadata": {},
   "outputs": [
    {
     "name": "stdout",
     "output_type": "stream",
     "text": [
      "week 1  completed\n",
      "             pair2       pair1             pair3\n",
      "week1  Laura,Aimee  Jenna,Joan  Katharine,Amelia\n",
      "week4          NaN         NaN               NaN\n",
      "week3          NaN         NaN               NaN\n",
      "week2          NaN         NaN               NaN\n",
      "week5          NaN         NaN               NaN\n",
      "week 2  completed\n",
      "             pair2            pair1             pair3\n",
      "week1  Laura,Aimee       Jenna,Joan  Katharine,Amelia\n",
      "week4          NaN              NaN               NaN\n",
      "week3          NaN              NaN               NaN\n",
      "week2   Aimee,Joan  Katharine,Laura      Amelia,Jenna\n",
      "week5          NaN              NaN               NaN\n",
      "week 3  completed\n",
      "              pair2            pair1             pair3\n",
      "week1   Laura,Aimee       Jenna,Joan  Katharine,Amelia\n",
      "week4           NaN              NaN               NaN\n",
      "week3  Amelia,Laura   Joan,Katharine       Jenna,Aimee\n",
      "week2    Aimee,Joan  Katharine,Laura      Amelia,Jenna\n",
      "week5           NaN              NaN               NaN\n",
      "week 4  completed\n",
      "                 pair2            pair1             pair3\n",
      "week1      Laura,Aimee       Jenna,Joan  Katharine,Amelia\n",
      "week4  Katharine,Jenna     Amelia,Aimee        Laura,Joan\n",
      "week3     Amelia,Laura   Joan,Katharine       Jenna,Aimee\n",
      "week2       Aimee,Joan  Katharine,Laura      Amelia,Jenna\n",
      "week5              NaN              NaN               NaN\n",
      "week 5  completed\n",
      "                 pair2            pair1             pair3\n",
      "week1      Laura,Aimee       Jenna,Joan  Katharine,Amelia\n",
      "week4  Katharine,Jenna     Amelia,Aimee        Laura,Joan\n",
      "week3     Amelia,Laura   Joan,Katharine       Jenna,Aimee\n",
      "week2       Aimee,Joan  Katharine,Laura      Amelia,Jenna\n",
      "week5  Katharine,Aimee      Amelia,Joan       Laura,Jenna\n",
      "                 pair2            pair1             pair3\n",
      "week1      Laura,Aimee       Jenna,Joan  Katharine,Amelia\n",
      "week4  Katharine,Jenna     Amelia,Aimee        Laura,Joan\n",
      "week3     Amelia,Laura   Joan,Katharine       Jenna,Aimee\n",
      "week2       Aimee,Joan  Katharine,Laura      Amelia,Jenna\n",
      "week5  Katharine,Aimee      Amelia,Joan       Laura,Jenna\n"
     ]
    }
   ],
   "source": [
    "import math\n",
    "import pandas as pd\n",
    "import random\n",
    "import numpy as np\n",
    "\n",
    "list_ppl = [\"Katharine\",\"Laura\",\"Joan\",\"Aimee\",\"Jenna\",\"Amelia\"]\n",
    "#print(list_ppl[1])\n",
    "pairings = pd.DataFrame(columns={\"pair1\",\"pair2\",\"pair3\"},index={\"week1\",\"week2\",\"week3\",\"week4\",\"week5\"})\n",
    "#print(pairings)\n",
    "weeks = pd.DataFrame()\n",
    "#weeks.append(pd.DataFrame([22,33]))\n",
    "Nweeks=6\n",
    "Npeople=6\n",
    "Npairs=int(Npeople*0.5)\n",
    "Ntries=100\n",
    "for ii in range(0,Nweeks-1):\n",
    "    #print(\"------------------------\")\n",
    "    #print(\"pairings=\",pairings)\n",
    "    #print(\"list_ppl=\",list_ppl)\n",
    "    week_str = 'week'+str(ii+1)\n",
    "    Ncommitted=0\n",
    "    #week_list = list_ppl.copy()\n",
    "    while(Ncommitted<Npairs):\n",
    "        #print(\"week_list=\",week_list)\n",
    "        #print(\"list_ppl=\",list_ppl)\n",
    "        #print(\"pairings=\",pairings)\n",
    "        remain_list=list_ppl.copy()\n",
    "        choice1 = random.choice(list_ppl)\n",
    "        remain_list.remove(choice1) #want to remove choice made\n",
    "        choice2 = random.choice(remain_list)\n",
    "        chosen_pair = choice1+\",\"+choice2\n",
    "        reverse_pair = choice2+\",\"+choice1\n",
    "        assignQ=1 # 1=assign pair,-1=dont assign pair\n",
    "        week_check_str=''\n",
    "        #if( ii>0 ):\n",
    "            #print(\"Committed=\",Ncommitted)\n",
    "            #print(\"chosen_pair=\",chosen_pair)\n",
    "        if( chosen_pair in pairings.values or reverse_pair in pairings.values ): # was previously chosen,\n",
    "            assignQ=-1\n",
    "            for ll in range(1,Npairs+1):\n",
    "                pair_str = 'pair'+str(ll)\n",
    "                pairings.loc[week_str,pair_str]=np.nan #reset week\n",
    "                Ncommitted=0 # reset week\n",
    "        for kk in range(1,Npairs+1):\n",
    "            pair_str = 'pair'+str(kk)\n",
    "            if( pd.isnull(pairings.loc[week_str,pair_str])==False ):        \n",
    "                if( (pairings.loc[week_str,pair_str].find(choice1)!=-1) or (pairings.loc[week_str,pair_str].find(choice2)!=-1) ):\n",
    "                    assignQ=-1 #dont assign\n",
    "        if( assignQ==1 ): #assign pair\n",
    "            pairings.loc[week_str,'pair'+str(Ncommitted+1)] = chosen_pair\n",
    "            Ncommitted=Ncommitted+1\n",
    "            remain_list.remove(choice2)\n",
    "            #print(\"Ncommitted=\",Ncommitted)\n",
    "        else:\n",
    "            remain_list.append(choice1) #place choice back\n",
    "    print(\"week\",ii+1,\" completed\")\n",
    "    print(pairings)\n",
    "print(pairings)"
   ]
  },
  {
   "cell_type": "code",
   "execution_count": 46,
   "metadata": {},
   "outputs": [
    {
     "name": "stdout",
     "output_type": "stream",
     "text": [
      "pair3       Laura,Aimee\n",
      "pair1      Amelia,Irene\n",
      "pair2    Joan,Katharine\n",
      "Name: week1, dtype: object\n",
      "pair3    Katharine,Laura\n",
      "pair1        Joan,Amelia\n",
      "pair2        Irene,Aimee\n",
      "Name: week2, dtype: object\n",
      "pair3       Amelia,Aimee\n",
      "pair1         Joan,Laura\n",
      "pair2    Katharine,Irene\n",
      "Name: week3, dtype: object\n",
      "pair3    Katharine,Amelia\n",
      "pair1          Aimee,Joan\n",
      "pair2         Laura,Irene\n",
      "Name: week4, dtype: object\n",
      "pair3         Joan,Irene\n",
      "pair1    Aimee,Katharine\n",
      "pair2       Laura,Amelia\n",
      "Name: week5, dtype: object\n"
     ]
    }
   ],
   "source": [
    "for ii in range(1,6):\n",
    "    print( pairings.loc['week'+str(ii)]['pair1'])"
   ]
  },
  {
   "cell_type": "code",
   "execution_count": 48,
   "metadata": {},
   "outputs": [
    {
     "data": {
      "text/html": [
       "<div>\n",
       "<style scoped>\n",
       "    .dataframe tbody tr th:only-of-type {\n",
       "        vertical-align: middle;\n",
       "    }\n",
       "\n",
       "    .dataframe tbody tr th {\n",
       "        vertical-align: top;\n",
       "    }\n",
       "\n",
       "    .dataframe thead th {\n",
       "        text-align: right;\n",
       "    }\n",
       "</style>\n",
       "<table border=\"1\" class=\"dataframe\">\n",
       "  <thead>\n",
       "    <tr style=\"text-align: right;\">\n",
       "      <th></th>\n",
       "      <th>pair3</th>\n",
       "      <th>pair1</th>\n",
       "      <th>pair2</th>\n",
       "    </tr>\n",
       "  </thead>\n",
       "  <tbody>\n",
       "    <tr>\n",
       "      <td>week1</td>\n",
       "      <td>Laura,Aimee</td>\n",
       "      <td>Amelia,Irene</td>\n",
       "      <td>Joan,Katharine</td>\n",
       "    </tr>\n",
       "    <tr>\n",
       "      <td>week2</td>\n",
       "      <td>Katharine,Laura</td>\n",
       "      <td>Joan,Amelia</td>\n",
       "      <td>Irene,Aimee</td>\n",
       "    </tr>\n",
       "    <tr>\n",
       "      <td>week3</td>\n",
       "      <td>Amelia,Aimee</td>\n",
       "      <td>Joan,Laura</td>\n",
       "      <td>Katharine,Irene</td>\n",
       "    </tr>\n",
       "    <tr>\n",
       "      <td>week4</td>\n",
       "      <td>Katharine,Amelia</td>\n",
       "      <td>Aimee,Joan</td>\n",
       "      <td>Laura,Irene</td>\n",
       "    </tr>\n",
       "    <tr>\n",
       "      <td>week5</td>\n",
       "      <td>Joan,Irene</td>\n",
       "      <td>Aimee,Katharine</td>\n",
       "      <td>Laura,Amelia</td>\n",
       "    </tr>\n",
       "  </tbody>\n",
       "</table>\n",
       "</div>"
      ],
      "text/plain": [
       "                  pair3            pair1            pair2\n",
       "week1       Laura,Aimee     Amelia,Irene   Joan,Katharine\n",
       "week2   Katharine,Laura      Joan,Amelia      Irene,Aimee\n",
       "week3      Amelia,Aimee       Joan,Laura  Katharine,Irene\n",
       "week4  Katharine,Amelia       Aimee,Joan      Laura,Irene\n",
       "week5        Joan,Irene  Aimee,Katharine     Laura,Amelia"
      ]
     },
     "execution_count": 48,
     "metadata": {},
     "output_type": "execute_result"
    }
   ],
   "source": [
    "pairings.sort_index()"
   ]
  },
  {
   "cell_type": "code",
   "execution_count": 57,
   "metadata": {},
   "outputs": [
    {
     "name": "stdout",
     "output_type": "stream",
     "text": [
      "                  pair3            pair1            pair2\n",
      "week5        Joan,Irene  Aimee,Katharine     Laura,Amelia\n",
      "week3      Amelia,Aimee       Joan,Laura  Katharine,Irene\n",
      "week1       Laura,Aimee     Amelia,Irene   Joan,Katharine\n",
      "week4  Katharine,Amelia       Aimee,Joan      Laura,Irene\n",
      "week2   Katharine,Laura      Joan,Amelia      Irene,Aimee\n"
     ]
    }
   ],
   "source": [
    "test=pairings\n",
    "print(test)"
   ]
  },
  {
   "cell_type": "code",
   "execution_count": 3,
   "metadata": {},
   "outputs": [
    {
     "name": "stdout",
     "output_type": "stream",
     "text": [
      "                 pair1            pair2             pair3\n",
      "week1       Jenna,Joan      Laura,Aimee  Katharine,Amelia\n",
      "week4     Amelia,Aimee  Katharine,Jenna        Laura,Joan\n",
      "week3   Joan,Katharine     Amelia,Laura       Jenna,Aimee\n",
      "week2  Katharine,Laura       Aimee,Joan      Amelia,Jenna\n",
      "week5      Amelia,Joan  Katharine,Aimee       Laura,Jenna\n",
      "                 pair1            pair2             pair3\n",
      "week1  Katharine,Laura       Aimee,Joan      Amelia,Jenna\n",
      "week2       Jenna,Joan      Laura,Aimee  Katharine,Amelia\n",
      "week3   Joan,Katharine     Amelia,Laura       Jenna,Aimee\n",
      "week4     Amelia,Aimee  Katharine,Jenna        Laura,Joan\n",
      "week5      Amelia,Joan  Katharine,Aimee       Laura,Jenna\n"
     ]
    }
   ],
   "source": [
    "test=pairings.copy()\n",
    "test = test[['pair1','pair2','pair3']]\n",
    "print(test)\n",
    "week1=test.loc['week2'].copy()\n",
    "week2=test.loc['week1'].copy()\n",
    "#print(test.sort_index())\n",
    "test.loc['week1'] =week1\n",
    "test.loc['week2'] =week2\n",
    "print(test.sort_index())"
   ]
  },
  {
   "cell_type": "code",
   "execution_count": 64,
   "metadata": {},
   "outputs": [
    {
     "name": "stdout",
     "output_type": "stream",
     "text": [
      "                  pair3            pair1            pair2\n",
      "week5        Joan,Irene  Aimee,Katharine     Laura,Amelia\n",
      "week3      Amelia,Aimee       Joan,Laura  Katharine,Irene\n",
      "week1       Laura,Aimee     Amelia,Irene   Joan,Katharine\n",
      "week4  Katharine,Amelia       Aimee,Joan      Laura,Irene\n",
      "week2   Katharine,Laura      Joan,Amelia      Irene,Aimee\n"
     ]
    }
   ],
   "source": [
    "print(pairings)"
   ]
  },
  {
   "cell_type": "code",
   "execution_count": null,
   "metadata": {},
   "outputs": [],
   "source": []
  }
 ],
 "metadata": {
  "kernelspec": {
   "display_name": "Python 3",
   "language": "python",
   "name": "python3"
  },
  "language_info": {
   "codemirror_mode": {
    "name": "ipython",
    "version": 3
   },
   "file_extension": ".py",
   "mimetype": "text/x-python",
   "name": "python",
   "nbconvert_exporter": "python",
   "pygments_lexer": "ipython3",
   "version": "3.7.4"
  }
 },
 "nbformat": 4,
 "nbformat_minor": 2
}
